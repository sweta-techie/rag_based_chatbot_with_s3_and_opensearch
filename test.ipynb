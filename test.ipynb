{
 "cells": [
  {
   "cell_type": "code",
   "execution_count": 3,
   "metadata": {},
   "outputs": [],
   "source": [
    "from opensearchpy import OpenSearch, RequestsHttpConnection"
   ]
  },
  {
   "cell_type": "code",
   "execution_count": 1,
   "metadata": {},
   "outputs": [],
   "source": [
    "# Save this as 'create_env.py'\n",
    "env_content = \"\"\"AWS_REGION=us-east-1\n",
    "MODEL_ID=amazon.titan-text-express-v1\n",
    "EMBEDDING_MODEL_ID=amazon.titan-embed-g1-text-v1\n",
    "MAX_TOKEN_COUNT=4096\n",
    "TEMPERATURE=0.7\n",
    "TOP_P=1.0\n",
    "CHUNK_SIZE=1000\n",
    "CHUNK_OVERLAP=100\n",
    "MAX_FILE_SIZE=10485760\n",
    "RATE_LIMIT_PER_MINUTE=10\n",
    "\"\"\"\n",
    "\n",
    "with open('.env', 'w') as f:\n",
    "    f.write(env_content)"
   ]
  },
  {
   "cell_type": "code",
   "execution_count": null,
   "metadata": {},
   "outputs": [],
   "source": []
  },
  {
   "cell_type": "code",
   "execution_count": 3,
   "metadata": {},
   "outputs": [
    {
     "name": "stdout",
     "output_type": "stream",
     "text": [
      "Error checking environment variables: name '__file__' is not defined\n"
     ]
    }
   ],
   "source": [
    "import os\n",
    "from pathlib import Path\n",
    "from environs import Env\n",
    "\n",
    "def create_env_file():\n",
    "    \"\"\"Create .env file if it doesn't exist.\"\"\"\n",
    "    # Get the current script's directory\n",
    "    current_dir = os.path.dirname(os.path.abspath(__file__))\n",
    "    env_path = os.path.join(current_dir, '.env')\n",
    "    \n",
    "    # Default environment variables\n",
    "    env_content = \"\"\"AWS_REGION=us-east-1\n",
    "MODEL_ID=amazon.titan-text-express-v1\n",
    "EMBEDDING_MODEL_ID=amazon.titan-embed-g1-text-v1\n",
    "MAX_TOKEN_COUNT=4096\n",
    "TEMPERATURE=0.7\n",
    "TOP_P=1.0\n",
    "CHUNK_SIZE=1000\n",
    "CHUNK_OVERLAP=100\n",
    "MAX_FILE_SIZE=10485760\n",
    "RATE_LIMIT_PER_MINUTE=10\n",
    "\"\"\"\n",
    "    \n",
    "    # Create .env file if it doesn't exist\n",
    "    if not os.path.exists(env_path):\n",
    "        try:\n",
    "            with open(env_path, 'w') as f:\n",
    "                f.write(env_content)\n",
    "            print(f\".env file created at: {env_path}\")\n",
    "        except Exception as e:\n",
    "            print(f\"Error creating .env file: {str(e)}\")\n",
    "            return False\n",
    "    return True\n",
    "\n",
    "def check_env_variables():\n",
    "    \"\"\"Check if environment variables are loaded correctly.\"\"\"\n",
    "    try:\n",
    "        # Get the current script's directory\n",
    "        current_dir = os.path.dirname(os.path.abspath(__file__))\n",
    "        env_path = os.path.join(current_dir, '.env')\n",
    "        \n",
    "        # Create env file if it doesn't exist\n",
    "        if not create_env_file():\n",
    "            return\n",
    "        \n",
    "        # Initialize Env\n",
    "        env = Env()\n",
    "        env.read_env(path=env_path)\n",
    "        \n",
    "        # Print current configuration\n",
    "        print(\"\\nCurrent Environment Configuration:\")\n",
    "        print(\"-\" * 30)\n",
    "        print(f\"AWS Region: {env.str('AWS_REGION', 'Not set')}\")\n",
    "        print(f\"Model ID: {env.str('MODEL_ID', 'Not set')}\")\n",
    "        print(f\"Embedding Model ID: {env.str('EMBEDDING_MODEL_ID', 'Not set')}\")\n",
    "        print(f\"Max Token Count: {env.int('MAX_TOKEN_COUNT', -1)}\")\n",
    "        print(f\"Temperature: {env.float('TEMPERATURE', -1.0)}\")\n",
    "        print(f\"Top P: {env.float('TOP_P', -1.0)}\")\n",
    "        print(\"-\" * 30)\n",
    "        \n",
    "        # Print file location\n",
    "        print(f\"\\n.env file location: {env_path}\")\n",
    "        \n",
    "    except Exception as e:\n",
    "        print(f\"Error checking environment variables: {str(e)}\")\n",
    "\n",
    "if __name__ == \"__main__\":\n",
    "    check_env_variables()"
   ]
  },
  {
   "cell_type": "code",
   "execution_count": 4,
   "metadata": {},
   "outputs": [
    {
     "name": "stdout",
     "output_type": "stream",
     "text": [
      "Unexpected exception formatting exception. Falling back to standard exception\n"
     ]
    },
    {
     "name": "stderr",
     "output_type": "stream",
     "text": [
      "Traceback (most recent call last):\n",
      "  File \"/Users/sweta/Documents/CryptoClear/Projects/RAG_based_chatbot_with_aws_opensearch/rag_based_chatbot_with_s3_and_opensearch/venv/lib/python3.11/site-packages/IPython/core/interactiveshell.py\", line 3577, in run_code\n",
      "  File \"/var/folders/kl/6qy5x7_x2sdgjbxt95nxl8r40000gn/T/ipykernel_1402/2277427350.py\", line 1, in <module>\n",
      "    import boto3\n",
      "ModuleNotFoundError: No module named 'boto3'\n",
      "\n",
      "During handling of the above exception, another exception occurred:\n",
      "\n",
      "Traceback (most recent call last):\n",
      "  File \"/Users/sweta/Documents/CryptoClear/Projects/RAG_based_chatbot_with_aws_opensearch/rag_based_chatbot_with_s3_and_opensearch/venv/lib/python3.11/site-packages/pygments/styles/__init__.py\", line 45, in get_style_by_name\n",
      "ModuleNotFoundError: No module named 'pygments.styles.default'\n",
      "\n",
      "During handling of the above exception, another exception occurred:\n",
      "\n",
      "Traceback (most recent call last):\n",
      "  File \"/Users/sweta/Documents/CryptoClear/Projects/RAG_based_chatbot_with_aws_opensearch/rag_based_chatbot_with_s3_and_opensearch/venv/lib/python3.11/site-packages/IPython/core/interactiveshell.py\", line 2168, in showtraceback\n",
      "  File \"/Users/sweta/Documents/CryptoClear/Projects/RAG_based_chatbot_with_aws_opensearch/rag_based_chatbot_with_s3_and_opensearch/venv/lib/python3.11/site-packages/IPython/core/ultratb.py\", line 1457, in structured_traceback\n",
      "  File \"/Users/sweta/Documents/CryptoClear/Projects/RAG_based_chatbot_with_aws_opensearch/rag_based_chatbot_with_s3_and_opensearch/venv/lib/python3.11/site-packages/IPython/core/ultratb.py\", line 1348, in structured_traceback\n",
      "  File \"/Users/sweta/Documents/CryptoClear/Projects/RAG_based_chatbot_with_aws_opensearch/rag_based_chatbot_with_s3_and_opensearch/venv/lib/python3.11/site-packages/IPython/core/ultratb.py\", line 1195, in structured_traceback\n",
      "  File \"/Users/sweta/Documents/CryptoClear/Projects/RAG_based_chatbot_with_aws_opensearch/rag_based_chatbot_with_s3_and_opensearch/venv/lib/python3.11/site-packages/IPython/core/ultratb.py\", line 1085, in format_exception_as_a_whole\n",
      "  File \"/Users/sweta/Documents/CryptoClear/Projects/RAG_based_chatbot_with_aws_opensearch/rag_based_chatbot_with_s3_and_opensearch/venv/lib/python3.11/site-packages/IPython/core/ultratb.py\", line 1136, in get_records\n",
      "  File \"/Users/sweta/Documents/CryptoClear/Projects/RAG_based_chatbot_with_aws_opensearch/rag_based_chatbot_with_s3_and_opensearch/venv/lib/python3.11/site-packages/pygments/styles/__init__.py\", line 47, in get_style_by_name\n",
      "pygments.util.ClassNotFound: Could not find style module 'pygments.styles.default', though it should be builtin.\n"
     ]
    }
   ],
   "source": [
    "import boto3\n",
    "\n",
    "bedrock_client = boto3.client(\n",
    "    'bedrock',\n",
    "    region_name='your-aws-region',  # e.g., 'us-east-1'\n",
    "    aws_access_key_id='YOUR_ACCESS_KEY',\n",
    "    aws_secret_access_key='YOUR_SECRET_KEY'\n",
    ")\n",
    "\n",
    "# Check available methods\n",
    "print(dir(bedrock_client))\n"
   ]
  },
  {
   "cell_type": "code",
   "execution_count": 5,
   "metadata": {},
   "outputs": [
    {
     "name": "stdout",
     "output_type": "stream",
     "text": [
      "Unexpected exception formatting exception. Falling back to standard exception\n"
     ]
    },
    {
     "name": "stderr",
     "output_type": "stream",
     "text": [
      "Traceback (most recent call last):\n",
      "  File \"/Users/sweta/Documents/CryptoClear/Projects/RAG_based_chatbot_with_aws_opensearch/rag_based_chatbot_with_s3_and_opensearch/venv/lib/python3.11/site-packages/IPython/core/interactiveshell.py\", line 3577, in run_code\n",
      "  File \"/var/folders/kl/6qy5x7_x2sdgjbxt95nxl8r40000gn/T/ipykernel_1402/3850887506.py\", line 1, in <module>\n",
      "    import nltk\n",
      "ModuleNotFoundError: No module named 'nltk'\n",
      "\n",
      "During handling of the above exception, another exception occurred:\n",
      "\n",
      "Traceback (most recent call last):\n",
      "  File \"/Users/sweta/Documents/CryptoClear/Projects/RAG_based_chatbot_with_aws_opensearch/rag_based_chatbot_with_s3_and_opensearch/venv/lib/python3.11/site-packages/pygments/styles/__init__.py\", line 45, in get_style_by_name\n",
      "ModuleNotFoundError: No module named 'pygments.styles.default'\n",
      "\n",
      "During handling of the above exception, another exception occurred:\n",
      "\n",
      "Traceback (most recent call last):\n",
      "  File \"/Users/sweta/Documents/CryptoClear/Projects/RAG_based_chatbot_with_aws_opensearch/rag_based_chatbot_with_s3_and_opensearch/venv/lib/python3.11/site-packages/IPython/core/interactiveshell.py\", line 2168, in showtraceback\n",
      "  File \"/Users/sweta/Documents/CryptoClear/Projects/RAG_based_chatbot_with_aws_opensearch/rag_based_chatbot_with_s3_and_opensearch/venv/lib/python3.11/site-packages/IPython/core/ultratb.py\", line 1457, in structured_traceback\n",
      "  File \"/Users/sweta/Documents/CryptoClear/Projects/RAG_based_chatbot_with_aws_opensearch/rag_based_chatbot_with_s3_and_opensearch/venv/lib/python3.11/site-packages/IPython/core/ultratb.py\", line 1348, in structured_traceback\n",
      "  File \"/Users/sweta/Documents/CryptoClear/Projects/RAG_based_chatbot_with_aws_opensearch/rag_based_chatbot_with_s3_and_opensearch/venv/lib/python3.11/site-packages/IPython/core/ultratb.py\", line 1195, in structured_traceback\n",
      "  File \"/Users/sweta/Documents/CryptoClear/Projects/RAG_based_chatbot_with_aws_opensearch/rag_based_chatbot_with_s3_and_opensearch/venv/lib/python3.11/site-packages/IPython/core/ultratb.py\", line 1085, in format_exception_as_a_whole\n",
      "  File \"/Users/sweta/Documents/CryptoClear/Projects/RAG_based_chatbot_with_aws_opensearch/rag_based_chatbot_with_s3_and_opensearch/venv/lib/python3.11/site-packages/IPython/core/ultratb.py\", line 1136, in get_records\n",
      "  File \"/Users/sweta/Documents/CryptoClear/Projects/RAG_based_chatbot_with_aws_opensearch/rag_based_chatbot_with_s3_and_opensearch/venv/lib/python3.11/site-packages/pygments/styles/__init__.py\", line 47, in get_style_by_name\n",
      "pygments.util.ClassNotFound: Could not find style module 'pygments.styles.default', though it should be builtin.\n"
     ]
    }
   ],
   "source": [
    "import nltk\n",
    "nltk.download('punkt')\n"
   ]
  }
 ],
 "metadata": {
  "kernelspec": {
   "display_name": "venv",
   "language": "python",
   "name": "python3"
  },
  "language_info": {
   "codemirror_mode": {
    "name": "ipython",
    "version": 3
   },
   "file_extension": ".py",
   "mimetype": "text/x-python",
   "name": "python",
   "nbconvert_exporter": "python",
   "pygments_lexer": "ipython3",
   "version": "3.10.15"
  }
 },
 "nbformat": 4,
 "nbformat_minor": 2
}
