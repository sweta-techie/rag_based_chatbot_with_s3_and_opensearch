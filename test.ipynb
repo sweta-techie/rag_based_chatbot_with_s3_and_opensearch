{
 "cells": [
  {
   "cell_type": "code",
   "execution_count": 3,
   "metadata": {},
   "outputs": [],
   "source": [
    "from opensearchpy import OpenSearch, RequestsHttpConnection"
   ]
  },
  {
   "cell_type": "code",
   "execution_count": 4,
   "metadata": {},
   "outputs": [
    {
     "name": "stdout",
     "output_type": "stream",
     "text": [
      "Unexpected exception formatting exception. Falling back to standard exception\n"
     ]
    },
    {
     "name": "stderr",
     "output_type": "stream",
     "text": [
      "Traceback (most recent call last):\n",
      "  File \"/Users/sweta/Documents/CryptoClear/Projects/RAG_based_chatbot_with_aws_opensearch/rag_based_chatbot_with_s3_and_opensearch/venv/lib/python3.11/site-packages/IPython/core/interactiveshell.py\", line 3577, in run_code\n",
      "  File \"/var/folders/kl/6qy5x7_x2sdgjbxt95nxl8r40000gn/T/ipykernel_1402/2277427350.py\", line 1, in <module>\n",
      "    import boto3\n",
      "ModuleNotFoundError: No module named 'boto3'\n",
      "\n",
      "During handling of the above exception, another exception occurred:\n",
      "\n",
      "Traceback (most recent call last):\n",
      "  File \"/Users/sweta/Documents/CryptoClear/Projects/RAG_based_chatbot_with_aws_opensearch/rag_based_chatbot_with_s3_and_opensearch/venv/lib/python3.11/site-packages/pygments/styles/__init__.py\", line 45, in get_style_by_name\n",
      "ModuleNotFoundError: No module named 'pygments.styles.default'\n",
      "\n",
      "During handling of the above exception, another exception occurred:\n",
      "\n",
      "Traceback (most recent call last):\n",
      "  File \"/Users/sweta/Documents/CryptoClear/Projects/RAG_based_chatbot_with_aws_opensearch/rag_based_chatbot_with_s3_and_opensearch/venv/lib/python3.11/site-packages/IPython/core/interactiveshell.py\", line 2168, in showtraceback\n",
      "  File \"/Users/sweta/Documents/CryptoClear/Projects/RAG_based_chatbot_with_aws_opensearch/rag_based_chatbot_with_s3_and_opensearch/venv/lib/python3.11/site-packages/IPython/core/ultratb.py\", line 1457, in structured_traceback\n",
      "  File \"/Users/sweta/Documents/CryptoClear/Projects/RAG_based_chatbot_with_aws_opensearch/rag_based_chatbot_with_s3_and_opensearch/venv/lib/python3.11/site-packages/IPython/core/ultratb.py\", line 1348, in structured_traceback\n",
      "  File \"/Users/sweta/Documents/CryptoClear/Projects/RAG_based_chatbot_with_aws_opensearch/rag_based_chatbot_with_s3_and_opensearch/venv/lib/python3.11/site-packages/IPython/core/ultratb.py\", line 1195, in structured_traceback\n",
      "  File \"/Users/sweta/Documents/CryptoClear/Projects/RAG_based_chatbot_with_aws_opensearch/rag_based_chatbot_with_s3_and_opensearch/venv/lib/python3.11/site-packages/IPython/core/ultratb.py\", line 1085, in format_exception_as_a_whole\n",
      "  File \"/Users/sweta/Documents/CryptoClear/Projects/RAG_based_chatbot_with_aws_opensearch/rag_based_chatbot_with_s3_and_opensearch/venv/lib/python3.11/site-packages/IPython/core/ultratb.py\", line 1136, in get_records\n",
      "  File \"/Users/sweta/Documents/CryptoClear/Projects/RAG_based_chatbot_with_aws_opensearch/rag_based_chatbot_with_s3_and_opensearch/venv/lib/python3.11/site-packages/pygments/styles/__init__.py\", line 47, in get_style_by_name\n",
      "pygments.util.ClassNotFound: Could not find style module 'pygments.styles.default', though it should be builtin.\n"
     ]
    }
   ],
   "source": [
    "import boto3\n",
    "\n",
    "bedrock_client = boto3.client(\n",
    "    'bedrock',\n",
    "    region_name='your-aws-region',  # e.g., 'us-east-1'\n",
    "    aws_access_key_id='YOUR_ACCESS_KEY',\n",
    "    aws_secret_access_key='YOUR_SECRET_KEY'\n",
    ")\n",
    "\n",
    "# Check available methods\n",
    "print(dir(bedrock_client))\n"
   ]
  },
  {
   "cell_type": "code",
   "execution_count": 5,
   "metadata": {},
   "outputs": [
    {
     "name": "stdout",
     "output_type": "stream",
     "text": [
      "Unexpected exception formatting exception. Falling back to standard exception\n"
     ]
    },
    {
     "name": "stderr",
     "output_type": "stream",
     "text": [
      "Traceback (most recent call last):\n",
      "  File \"/Users/sweta/Documents/CryptoClear/Projects/RAG_based_chatbot_with_aws_opensearch/rag_based_chatbot_with_s3_and_opensearch/venv/lib/python3.11/site-packages/IPython/core/interactiveshell.py\", line 3577, in run_code\n",
      "  File \"/var/folders/kl/6qy5x7_x2sdgjbxt95nxl8r40000gn/T/ipykernel_1402/3850887506.py\", line 1, in <module>\n",
      "    import nltk\n",
      "ModuleNotFoundError: No module named 'nltk'\n",
      "\n",
      "During handling of the above exception, another exception occurred:\n",
      "\n",
      "Traceback (most recent call last):\n",
      "  File \"/Users/sweta/Documents/CryptoClear/Projects/RAG_based_chatbot_with_aws_opensearch/rag_based_chatbot_with_s3_and_opensearch/venv/lib/python3.11/site-packages/pygments/styles/__init__.py\", line 45, in get_style_by_name\n",
      "ModuleNotFoundError: No module named 'pygments.styles.default'\n",
      "\n",
      "During handling of the above exception, another exception occurred:\n",
      "\n",
      "Traceback (most recent call last):\n",
      "  File \"/Users/sweta/Documents/CryptoClear/Projects/RAG_based_chatbot_with_aws_opensearch/rag_based_chatbot_with_s3_and_opensearch/venv/lib/python3.11/site-packages/IPython/core/interactiveshell.py\", line 2168, in showtraceback\n",
      "  File \"/Users/sweta/Documents/CryptoClear/Projects/RAG_based_chatbot_with_aws_opensearch/rag_based_chatbot_with_s3_and_opensearch/venv/lib/python3.11/site-packages/IPython/core/ultratb.py\", line 1457, in structured_traceback\n",
      "  File \"/Users/sweta/Documents/CryptoClear/Projects/RAG_based_chatbot_with_aws_opensearch/rag_based_chatbot_with_s3_and_opensearch/venv/lib/python3.11/site-packages/IPython/core/ultratb.py\", line 1348, in structured_traceback\n",
      "  File \"/Users/sweta/Documents/CryptoClear/Projects/RAG_based_chatbot_with_aws_opensearch/rag_based_chatbot_with_s3_and_opensearch/venv/lib/python3.11/site-packages/IPython/core/ultratb.py\", line 1195, in structured_traceback\n",
      "  File \"/Users/sweta/Documents/CryptoClear/Projects/RAG_based_chatbot_with_aws_opensearch/rag_based_chatbot_with_s3_and_opensearch/venv/lib/python3.11/site-packages/IPython/core/ultratb.py\", line 1085, in format_exception_as_a_whole\n",
      "  File \"/Users/sweta/Documents/CryptoClear/Projects/RAG_based_chatbot_with_aws_opensearch/rag_based_chatbot_with_s3_and_opensearch/venv/lib/python3.11/site-packages/IPython/core/ultratb.py\", line 1136, in get_records\n",
      "  File \"/Users/sweta/Documents/CryptoClear/Projects/RAG_based_chatbot_with_aws_opensearch/rag_based_chatbot_with_s3_and_opensearch/venv/lib/python3.11/site-packages/pygments/styles/__init__.py\", line 47, in get_style_by_name\n",
      "pygments.util.ClassNotFound: Could not find style module 'pygments.styles.default', though it should be builtin.\n"
     ]
    }
   ],
   "source": [
    "import nltk\n",
    "nltk.download('punkt')\n"
   ]
  }
 ],
 "metadata": {
  "kernelspec": {
   "display_name": "venv",
   "language": "python",
   "name": "python3"
  },
  "language_info": {
   "codemirror_mode": {
    "name": "ipython",
    "version": 3
   },
   "file_extension": ".py",
   "mimetype": "text/x-python",
   "name": "python",
   "nbconvert_exporter": "python",
   "pygments_lexer": "ipython3",
   "version": "3.11.4"
  }
 },
 "nbformat": 4,
 "nbformat_minor": 2
}
